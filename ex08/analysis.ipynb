{
 "cells": [
  {
   "cell_type": "markdown",
   "metadata": {},
   "source": [
    "# Analysis for Continuous Improvement\n",
    "\n",
    "Author Name: Manaal Iqbal\n",
    "\n",
    "9-digit PID: 730400691\n",
    "\n",
    "Continuous Improvement embraces a belief there is _always room to make things better_. It is a mindset and process we value and practice in this course. In this assignment, you are able to practice continuous improvement and contribute to the design ideas of the course.\n",
    "\n",
    "## Brainstorming Ideas\n",
    "\n",
    "Reflect on your personal experiences and observations in COMP110 and **brainstorm modifications to the course that _create value_ beyond its current design**. When brainstorming, try not to be critical of the ideas you come up with regarding scale, stakeholders impacted, or for any other reasons. In the markdown cell below, brainstorm 3 to 5 ideas you think would create value for you.\n",
    "\n",
    "Each brainstormed idea should state a. the suggested change or addition, b. what the expected value created, and c. which specific stakeholders would benefit.  If helpful, expand on the following template \"The course should (state idea here) because it will (state value created here) for (insert stakeholders here).\"\n",
    "\n",
    "Example A: \"The course should use only examples from psychology experiments because it will be more relevant for students who are psychology majors.\"\n",
    "\n",
    "Example B: \"The course should not have post-lesson questions because they are not useful for most students in the class.\""
   ]
  },
  {
   "cell_type": "markdown",
   "metadata": {},
   "source": [
    "### Part 1. Creative Ideation\n",
    "\n",
    "1. The course should design some projects/exercises around data science/industry applicable concepts because it will be more relevant for students studying computer science for the first time. Students who have no background in computer science do not know how it is applicable to the real world, especially for computer science careers. Including more projects that pull from real-life data science/industry scenarios will give students a better insight into how computer science is used in the job industry, beyond the meager examples mentioned in passing during lecture.\n",
    "2. The course should include examples that are applicable to cognitive science because it will be more useful for students who are neuroscience majors. This is especially valuable since neuroscience majors are required to take Intro to Computer Science anyways. \n",
    "3. The course should not make the quizzes worth a large portion of the final grade because they do not benefit the students. The quizzes are unlike the projects and lessons, which allow students to work at their own pace and apply their knowledge to actual programming instead of memorizing information for an assessment.\n",
    "4. The course should include more troubleshooting tips in exercise write-ups because it will reduce the amount of time students need to spend in office hours and this will also benefit instructional staff by reducing their workload. By including more suggestions for potential errors in programs and how to fix them, as well as guidelines for designing aspects of the program either through examples of write-ups, students will have more material to rely on for independent troubleshooting before turning to office hours.\n",
    "5. The course should incorporate web design instead of just Python because students want to learn how to design websites. "
   ]
  },
  {
   "cell_type": "markdown",
   "metadata": {},
   "source": [
    "## Connecting with Available Data\n",
    "\n",
    "The data you have available for this analysis is limited to the anonymized course survey you and your peers filled out a few weeks ago. The data is found in the `survey.csv` file in this exercise directory. Each row represents an individual survey response. Each column has a description which can be found on the project write-up here: <https://22s.comp110.com/exercises/ex08.html>\n",
    "\n",
    "Review the list of available data and identify which one of your ideas _does not_, or is _least likely to_, have relevant data to support the analysis of your idea to create value. In the box below, identify which of your ideas lacks data and suggest how we might be able to collect this data in the future. One aspect of _continuous improvement_ is trying to avoid \"tunnel vision\" where possible improvements are not considered because there is no data available to analyze it. Identifying new data sources can unlock improvements!"
   ]
  },
  {
   "cell_type": "markdown",
   "metadata": {},
   "source": [
    "### Part 2. Identifying Missing Data\n",
    "\n",
    "1. Idea without sufficient data to analyze: Idea #5: The course should incorporate web design instead of just Python because students want to learn how to design websites.\n",
    "\n",
    "2. Suggestion for how to collect data to support this idea in the future: In another survey, we should ask students what aspects of computer science they are interested in learning about (web design, app development, R, etc.), and whether they think this course is catered to their interests. "
   ]
  },
  {
   "cell_type": "markdown",
   "metadata": {},
   "source": [
    "## Choosing an Idea to Analyze\n",
    "\n",
    "Consider those of your ideas which _do_ seem likely to have relevant data to analyze. If none of your ideas do, spend a few minutes and brainstorm another idea or two with the added connection of data available on hand and add those ideas to your brainstormed ideas list.\n",
    "\n",
    "Select the one idea which you believe is _most valuable_ to analyze relative to the others and has data to support the analysis of. In the markdown cell for Part 3 below, identify the idea you are exploring and articulate why you believe it is most valuable (e.g. widest impact, biggest opportunity for improvement, simplest change for significant improvement, and so on)."
   ]
  },
  {
   "cell_type": "markdown",
   "metadata": {},
   "source": [
    "### Part 3. Choosing Your Analysis\n",
    "\n",
    "1. Idea to analyze with available data: Idea #3: The course should not make the quizzes worth a large portion of the final grade because they do not benefit the students. The quizzes are unlike the projects and lessons, which allow students to work at their own pace and apply their knowledge to actual programming instead of memorizing information for an assessment.\n",
    "\n",
    "2. This idea is more valuable than the others brainstormed because: it is the most feasible way to improve the course because it requires the least amount of restructuring. All that would need to be done is changing the grading scale of the course without tampering with any other aspect of the course. \n"
   ]
  },
  {
   "cell_type": "markdown",
   "metadata": {},
   "source": [
    "## Your Analysis\n",
    "\n",
    "Before you begin analysis, a reminder that we do not expect the data to support everyone's ideas and you can complete this exercise for full credit even if the data does not clearly support your suggestion or even completely refutes it. What we are looking for is a logical attempt to explore the data using the techniques you have learned up until now in a way that _either_ supports, refutes, or does not have a clear result and then to reflect on your findings after the analysis.\n",
    "\n",
    "Using the utility functions you created for the previous exercise, you will continue with your analysis in the following part. Before you begin, refer to the rubric on the technical expectations of this section in the exercise write-up.\n",
    "\n",
    "In this section, you are expected to interleave code and markdown cells such that for each step of your analysis you are starting with an English description of what you are planning to do next in a markdown cell, followed by a Python cell that performs that step of the analysis."
   ]
  },
  {
   "cell_type": "markdown",
   "metadata": {},
   "source": [
    "### Part 4. Analysis\n",
    "\n",
    "We begin by changing some settings in the notebook to automatically reload changes to imported files."
   ]
  },
  {
   "cell_type": "code",
   "execution_count": 293,
   "metadata": {},
   "outputs": [],
   "source": [
    "%reload_ext autoreload\n",
    "%autoreload 2"
   ]
  },
  {
   "cell_type": "markdown",
   "metadata": {},
   "source": [
    "We continue by importing the helper functions from `data_utils`."
   ]
  },
  {
   "cell_type": "code",
   "execution_count": 294,
   "metadata": {},
   "outputs": [],
   "source": [
    "from data_utils import read_csv_rows\n",
    "from data_utils import column_values\n",
    "from data_utils import columnar\n",
    "from data_utils import head\n",
    "from data_utils import select\n",
    "from data_utils import concat\n",
    "from data_utils import count\n",
    "from tabulate import tabulate\n",
    "from data_utils import filtering\n",
    "from data_utils import total"
   ]
  },
  {
   "cell_type": "markdown",
   "metadata": {},
   "source": [
    "Next, ... (you take it from here and add additional code and markdown cells to read in the CSV file and process it as needed)"
   ]
  },
  {
   "cell_type": "markdown",
   "metadata": {},
   "source": [
    "Importing the CSV file:"
   ]
  },
  {
   "cell_type": "code",
   "execution_count": 295,
   "metadata": {},
   "outputs": [],
   "source": [
    "SURVEY_DATA_CSV_FILE_PATH: str = \"../../data/survey.csv\""
   ]
  },
  {
   "cell_type": "markdown",
   "metadata": {},
   "source": [
    "### read_csv_rows function\n",
    "The following code block is dedicated to converting the data from the survey.csv file into data I can work with in Python. It will return the number of rows and the number of columns in the csv file, as well as the names of every column."
   ]
  },
  {
   "cell_type": "code",
   "execution_count": 296,
   "metadata": {},
   "outputs": [
    {
     "name": "stdout",
     "output_type": "stream",
     "text": [
      "Data File Read: ../../data/survey.csv\n",
      "620 rows\n",
      "35 columns\n",
      "Columns names: dict_keys(['row', 'year', 'unc_status', 'comp_major', 'primary_major', 'data_science', 'prereqs', 'prior_exp', 'ap_principles', 'ap_a', 'other_comp', 'prior_time', 'languages', 'hours_online_social', 'hours_online_work', 'lesson_time', 'sync_perf', 'all_sync', 'flipped_class', 'no_hybrid', 'own_notes', 'own_examples', 'oh_visits', 'ls_effective', 'lsqs_effective', 'programming_effective', 'qz_effective', 'oh_effective', 'tutoring_effective', 'pace', 'difficulty', 'understanding', 'interesting', 'valuable', 'would_recommend'])\n"
     ]
    }
   ],
   "source": [
    "data_rows: list[dict[str, str]] = read_csv_rows(SURVEY_DATA_CSV_FILE_PATH)\n",
    "\n",
    "print(f\"Data File Read: {SURVEY_DATA_CSV_FILE_PATH}\")\n",
    "print(f\"{len(data_rows)} rows\")\n",
    "print(f\"{len(data_rows[0].keys())} columns\")\n",
    "print(f\"Columns names: {data_rows[0].keys()}\")"
   ]
  },
  {
   "cell_type": "markdown",
   "metadata": {},
   "source": [
    "### columnar function\n",
    "The next block of code will use the columnar function to transform the data from the csv file that is currently a list of rows into a dictionary of columns -> dict[str, list[str]]. A dictionary of columns is much easier to deal with since I will be working with more than one column of data in my analysis. The output will return the number of columns and rows in the dictionary, and the column names. "
   ]
  },
  {
   "cell_type": "code",
   "execution_count": 297,
   "metadata": {},
   "outputs": [
    {
     "name": "stdout",
     "output_type": "stream",
     "text": [
      "35 columns\n",
      "620 rows\n",
      "Columns names: dict_keys(['row', 'year', 'unc_status', 'comp_major', 'primary_major', 'data_science', 'prereqs', 'prior_exp', 'ap_principles', 'ap_a', 'other_comp', 'prior_time', 'languages', 'hours_online_social', 'hours_online_work', 'lesson_time', 'sync_perf', 'all_sync', 'flipped_class', 'no_hybrid', 'own_notes', 'own_examples', 'oh_visits', 'ls_effective', 'lsqs_effective', 'programming_effective', 'qz_effective', 'oh_effective', 'tutoring_effective', 'pace', 'difficulty', 'understanding', 'interesting', 'valuable', 'would_recommend'])\n"
     ]
    }
   ],
   "source": [
    "data_cols: dict[str, list[str]] = columnar(data_rows)\n",
    "\n",
    "if len(data_cols.keys()) == 0:\n",
    "    print(\"Complete your implementation of columnar in data_utils.py\")\n",
    "    print(\"Be sure to follow the guidelines above and save your work before re-evaluating!\")\n",
    "else:\n",
    "    print(f\"{len(data_cols.keys())} columns\")\n",
    "    print(f\"{len(data_cols['qz_effective'])} rows\")\n",
    "    print(f\"Columns names: {data_cols.keys()}\")"
   ]
  },
  {
   "cell_type": "markdown",
   "metadata": {},
   "source": [
    "### select and head functions\n",
    "The next block of code will use the select function to create a dictionary that contains all of the values in the \"qz_effective\" column and all of the values in the \"understanding\" column. The head function will take the new dictionary with only two columns and present the first 10 rows of data in a visual table. "
   ]
  },
  {
   "cell_type": "code",
   "execution_count": 298,
   "metadata": {},
   "outputs": [
    {
     "data": {
      "text/html": [
       "<table>\n",
       "<thead>\n",
       "<tr><th style=\"text-align: right;\">  qz_effective</th><th style=\"text-align: right;\">  understanding</th></tr>\n",
       "</thead>\n",
       "<tbody>\n",
       "<tr><td style=\"text-align: right;\">             5</td><td style=\"text-align: right;\">              7</td></tr>\n",
       "<tr><td style=\"text-align: right;\">             5</td><td style=\"text-align: right;\">              3</td></tr>\n",
       "<tr><td style=\"text-align: right;\">             7</td><td style=\"text-align: right;\">              6</td></tr>\n",
       "<tr><td style=\"text-align: right;\">             5</td><td style=\"text-align: right;\">              5</td></tr>\n",
       "<tr><td style=\"text-align: right;\">             6</td><td style=\"text-align: right;\">              5</td></tr>\n",
       "<tr><td style=\"text-align: right;\">             7</td><td style=\"text-align: right;\">              6</td></tr>\n",
       "<tr><td style=\"text-align: right;\">             5</td><td style=\"text-align: right;\">              6</td></tr>\n",
       "<tr><td style=\"text-align: right;\">             7</td><td style=\"text-align: right;\">              7</td></tr>\n",
       "<tr><td style=\"text-align: right;\">             7</td><td style=\"text-align: right;\">              6</td></tr>\n",
       "<tr><td style=\"text-align: right;\">             7</td><td style=\"text-align: right;\">              6</td></tr>\n",
       "</tbody>\n",
       "</table>"
      ],
      "text/plain": [
       "'<table>\\n<thead>\\n<tr><th style=\"text-align: right;\">  qz_effective</th><th style=\"text-align: right;\">  understanding</th></tr>\\n</thead>\\n<tbody>\\n<tr><td style=\"text-align: right;\">             5</td><td style=\"text-align: right;\">              7</td></tr>\\n<tr><td style=\"text-align: right;\">             5</td><td style=\"text-align: right;\">              3</td></tr>\\n<tr><td style=\"text-align: right;\">             7</td><td style=\"text-align: right;\">              6</td></tr>\\n<tr><td style=\"text-align: right;\">             5</td><td style=\"text-align: right;\">              5</td></tr>\\n<tr><td style=\"text-align: right;\">             6</td><td style=\"text-align: right;\">              5</td></tr>\\n<tr><td style=\"text-align: right;\">             7</td><td style=\"text-align: right;\">              6</td></tr>\\n<tr><td style=\"text-align: right;\">             5</td><td style=\"text-align: right;\">              6</td></tr>\\n<tr><td style=\"text-align: right;\">             7</td><td style=\"text-align: right;\">              7</td></tr>\\n<tr><td style=\"text-align: right;\">             7</td><td style=\"text-align: right;\">              6</td></tr>\\n<tr><td style=\"text-align: right;\">             7</td><td style=\"text-align: right;\">              6</td></tr>\\n</tbody>\\n</table>'"
      ]
     },
     "execution_count": 298,
     "metadata": {},
     "output_type": "execute_result"
    }
   ],
   "source": [
    "selected_data: dict[str, list[str]] = select(data_cols, [\"qz_effective\", \"understanding\"])\n",
    "\n",
    "tabulate(head(selected_data, 10), selected_data.keys(), \"html\")"
   ]
  },
  {
   "cell_type": "markdown",
   "metadata": {},
   "source": [
    "### filtering, count, and total function\n",
    "For the next section, I will make the following assumptions for simplicity:\n",
    "\n",
    "\"qz_effectivenes\" assumptions:\n",
    "\n",
    "    Students who rated their qz_effectiveness 1-2 do not believe the quizzes help them.\n",
    "\n",
    "    Students who rated their qz_effectiveness 3-5 believe the quizzes were a little helpful.\n",
    "\n",
    "    Students who rated their qz_effectiveness 6-7 believe the quizzes were very helpful. \n",
    "\n",
    "\"Understanding\" assumptions:\n",
    "\n",
    "    Students who rated their understanding 1-2 do not have a good understanding of the course.\n",
    "\n",
    "    Students who rated their understanding 3-5 have some understanding of the course.\n",
    "\n",
    "    Students who rated their understanding 6-7 have a good understanding of the course. \n",
    "\n",
    "\n",
    "The follow blocks of code uses the filtering function to organize the numerical responses in the \"qz_effective\" column and the \"understanding\" column into the following groups:\n",
    "\n",
    "Group 1: \"qz_effectiveness\" = 1-2 and \"understanding\" = 1-2\n",
    "\n",
    "Group 2: \"qz_effectiveness\" = 1-2 and \"understanding\" = 3-5\n",
    "\n",
    "Group 3: \"qz_effectiveness\" = 1-2 and \"understanding\" = 6-7\n",
    "\n",
    "\n",
    "The filtering function will return a dictionary with the key-value pairs that match the criteria for each group, so in total the code block will return three dictionaries. For the sake of space it will only present the first 5 rows of data for each group.\n",
    "\n",
    "The count function will be used to count the number of students who selected each possible response for \"qz_effective\", and will be presented in the output for each group. \n",
    "\n",
    "The total function will be used to total the organized values obtained from the count function to determine the total number of students in each group."
   ]
  },
  {
   "cell_type": "code",
   "execution_count": 299,
   "metadata": {},
   "outputs": [
    {
     "name": "stdout",
     "output_type": "stream",
     "text": [
      "Data for Group 1: 'qz_effective' 1-2 and 'understanding' 1-2\n",
      "{'1': 6, '2': 5}\n",
      "Number of students in Group 1: 11\n"
     ]
    },
    {
     "data": {
      "text/html": [
       "<table>\n",
       "<thead>\n",
       "<tr><th style=\"text-align: right;\">  qz_effective</th><th style=\"text-align: right;\">  understanding</th></tr>\n",
       "</thead>\n",
       "<tbody>\n",
       "<tr><td style=\"text-align: right;\">             1</td><td style=\"text-align: right;\">              1</td></tr>\n",
       "<tr><td style=\"text-align: right;\">             2</td><td style=\"text-align: right;\">              1</td></tr>\n",
       "<tr><td style=\"text-align: right;\">             2</td><td style=\"text-align: right;\">              2</td></tr>\n",
       "<tr><td style=\"text-align: right;\">             2</td><td style=\"text-align: right;\">              1</td></tr>\n",
       "<tr><td style=\"text-align: right;\">             1</td><td style=\"text-align: right;\">              1</td></tr>\n",
       "</tbody>\n",
       "</table>"
      ],
      "text/plain": [
       "'<table>\\n<thead>\\n<tr><th style=\"text-align: right;\">  qz_effective</th><th style=\"text-align: right;\">  understanding</th></tr>\\n</thead>\\n<tbody>\\n<tr><td style=\"text-align: right;\">             1</td><td style=\"text-align: right;\">              1</td></tr>\\n<tr><td style=\"text-align: right;\">             2</td><td style=\"text-align: right;\">              1</td></tr>\\n<tr><td style=\"text-align: right;\">             2</td><td style=\"text-align: right;\">              2</td></tr>\\n<tr><td style=\"text-align: right;\">             2</td><td style=\"text-align: right;\">              1</td></tr>\\n<tr><td style=\"text-align: right;\">             1</td><td style=\"text-align: right;\">              1</td></tr>\\n</tbody>\\n</table>'"
      ]
     },
     "execution_count": 299,
     "metadata": {},
     "output_type": "execute_result"
    }
   ],
   "source": [
    "filtered_data_g1: dict[str, list[str]] = filtering(selected_data, \"qz_effective\", 1, 2, \"understanding\", 1, 2)\n",
    "\n",
    "print(\"Data for Group 1: 'qz_effective' 1-2 and 'understanding' 1-2\")\n",
    "counted_g1: dict[str, int] = count(filtered_data_g1[\"qz_effective\"])\n",
    "print(counted_g1)\n",
    "print(f\"Number of students in Group 1: {total(counted_g1)}\")\n",
    "\n",
    "tabulate(head(filtered_data_g1, 5), filtered_data_g1.keys(), \"html\")\n"
   ]
  },
  {
   "cell_type": "code",
   "execution_count": 300,
   "metadata": {},
   "outputs": [
    {
     "name": "stdout",
     "output_type": "stream",
     "text": [
      "Data for Group 2: 'qz_effective' 1-2 and 'understanding' 3-5\n",
      "{'1': 10, '2': 23}\n",
      "Number of students in Group 2: 33\n"
     ]
    },
    {
     "data": {
      "text/html": [
       "<table>\n",
       "<thead>\n",
       "<tr><th style=\"text-align: right;\">  qz_effective</th><th style=\"text-align: right;\">  understanding</th></tr>\n",
       "</thead>\n",
       "<tbody>\n",
       "<tr><td style=\"text-align: right;\">             1</td><td style=\"text-align: right;\">              4</td></tr>\n",
       "<tr><td style=\"text-align: right;\">             1</td><td style=\"text-align: right;\">              3</td></tr>\n",
       "<tr><td style=\"text-align: right;\">             2</td><td style=\"text-align: right;\">              3</td></tr>\n",
       "<tr><td style=\"text-align: right;\">             2</td><td style=\"text-align: right;\">              3</td></tr>\n",
       "<tr><td style=\"text-align: right;\">             1</td><td style=\"text-align: right;\">              3</td></tr>\n",
       "</tbody>\n",
       "</table>"
      ],
      "text/plain": [
       "'<table>\\n<thead>\\n<tr><th style=\"text-align: right;\">  qz_effective</th><th style=\"text-align: right;\">  understanding</th></tr>\\n</thead>\\n<tbody>\\n<tr><td style=\"text-align: right;\">             1</td><td style=\"text-align: right;\">              4</td></tr>\\n<tr><td style=\"text-align: right;\">             1</td><td style=\"text-align: right;\">              3</td></tr>\\n<tr><td style=\"text-align: right;\">             2</td><td style=\"text-align: right;\">              3</td></tr>\\n<tr><td style=\"text-align: right;\">             2</td><td style=\"text-align: right;\">              3</td></tr>\\n<tr><td style=\"text-align: right;\">             1</td><td style=\"text-align: right;\">              3</td></tr>\\n</tbody>\\n</table>'"
      ]
     },
     "execution_count": 300,
     "metadata": {},
     "output_type": "execute_result"
    }
   ],
   "source": [
    "filtered_data_g2: dict[str, list[str]] = filtering(selected_data, \"qz_effective\", 1, 2, \"understanding\", 3, 5)\n",
    "\n",
    "print(\"Data for Group 2: 'qz_effective' 1-2 and 'understanding' 3-5\")\n",
    "counted_g2: dict[str, int] = count(filtered_data_g2[\"qz_effective\"])\n",
    "print(counted_g2)\n",
    "print(f\"Number of students in Group 2: {total(counted_g2)}\")\n",
    "\n",
    "tabulate(head(filtered_data_g2, 5), filtered_data_g2.keys(), \"html\")"
   ]
  },
  {
   "cell_type": "code",
   "execution_count": 301,
   "metadata": {},
   "outputs": [
    {
     "name": "stdout",
     "output_type": "stream",
     "text": [
      "Data for Group 3: 'qz_effective' 1-2 and 'understanding' 6-7\n",
      "{'1': 8, '2': 3}\n",
      "Number of students in Group 3: 11\n"
     ]
    },
    {
     "data": {
      "text/html": [
       "<table>\n",
       "<thead>\n",
       "<tr><th style=\"text-align: right;\">  qz_effective</th><th style=\"text-align: right;\">  understanding</th></tr>\n",
       "</thead>\n",
       "<tbody>\n",
       "<tr><td style=\"text-align: right;\">             1</td><td style=\"text-align: right;\">              7</td></tr>\n",
       "<tr><td style=\"text-align: right;\">             2</td><td style=\"text-align: right;\">              6</td></tr>\n",
       "<tr><td style=\"text-align: right;\">             2</td><td style=\"text-align: right;\">              7</td></tr>\n",
       "<tr><td style=\"text-align: right;\">             1</td><td style=\"text-align: right;\">              6</td></tr>\n",
       "<tr><td style=\"text-align: right;\">             1</td><td style=\"text-align: right;\">              7</td></tr>\n",
       "</tbody>\n",
       "</table>"
      ],
      "text/plain": [
       "'<table>\\n<thead>\\n<tr><th style=\"text-align: right;\">  qz_effective</th><th style=\"text-align: right;\">  understanding</th></tr>\\n</thead>\\n<tbody>\\n<tr><td style=\"text-align: right;\">             1</td><td style=\"text-align: right;\">              7</td></tr>\\n<tr><td style=\"text-align: right;\">             2</td><td style=\"text-align: right;\">              6</td></tr>\\n<tr><td style=\"text-align: right;\">             2</td><td style=\"text-align: right;\">              7</td></tr>\\n<tr><td style=\"text-align: right;\">             1</td><td style=\"text-align: right;\">              6</td></tr>\\n<tr><td style=\"text-align: right;\">             1</td><td style=\"text-align: right;\">              7</td></tr>\\n</tbody>\\n</table>'"
      ]
     },
     "execution_count": 301,
     "metadata": {},
     "output_type": "execute_result"
    }
   ],
   "source": [
    "filtered_data_g3: dict[str, list[str]] = filtering(selected_data, \"qz_effective\", 1, 2, \"understanding\", 6, 7)\n",
    "\n",
    "print(\"Data for Group 3: 'qz_effective' 1-2 and 'understanding' 6-7\")\n",
    "counted_g3: dict[str, int] = count(filtered_data_g3[\"qz_effective\"])\n",
    "print(counted_g3)\n",
    "print(f\"Number of students in Group 3: {total(counted_g3)}\")\n",
    "\n",
    "tabulate(head(filtered_data_g3, 5), filtered_data_g3.keys(), \"html\")"
   ]
  },
  {
   "cell_type": "markdown",
   "metadata": {},
   "source": [
    "### Who thinks Quizzes are effective? Relaying the data\n",
    "\n",
    "Now that I've created three different groups of students, all of whom believe that the quizzes are not helpful in the course, I can begin to analyze the relationship between a student's opinions on the course and their overall understanding. \n",
    "\n",
    "The following code blocks evaluate the percentage of students belonging to each group overall in the course. As a reminder, the criteria for each group are:\n",
    "\n",
    "    Group 1: \"qz_effectiveness\" = 1-2 and \"understanding\" = 1-2\n",
    "\n",
    "    Group 2: \"qz_effectiveness\" = 1-2 and \"understanding\" = 3-5\n",
    "\n",
    "    Group 3: \"qz_effectiveness\" = 1-2 and \"understanding\" = 6-7\n",
    "    "
   ]
  },
  {
   "cell_type": "code",
   "execution_count": 302,
   "metadata": {},
   "outputs": [
    {
     "name": "stdout",
     "output_type": "stream",
     "text": [
      "There are 620 students enrolled in COMP 110\n",
      "Group 1: 1.7741935483870968 % of students in the course.\n",
      "Group 2: 5.32258064516129 % of students in the course.\n",
      "Group 3: 1.7741935483870968 % of students in the course.\n",
      "8.870967741935484 % of students do not believe quizzes are effective in the course.\n"
     ]
    }
   ],
   "source": [
    "counted_selected: dict[str, int] = count(selected_data[\"qz_effective\"])\n",
    "total_selected: int = total(counted_selected)\n",
    "\n",
    "g1_percentage: int = (total(counted_g1) / total_selected) * 100\n",
    "g2_percentage: int = (total(counted_g2) / total_selected) * 100\n",
    "g3_percentage: int = (total(counted_g3) / total_selected) * 100\n",
    "\n",
    "print(f\"There are {total_selected} students enrolled in COMP 110\")\n",
    "print(f\"Group 1: {g1_percentage} % of students in the course.\")\n",
    "print(f\"Group 2: {g2_percentage} % of students in the course.\")\n",
    "print(f\"Group 3: {g3_percentage} % of students in the course.\")\n",
    "print(f\"{g1_percentage + g2_percentage + g3_percentage} % of students do not believe quizzes are effective in the course.\")"
   ]
  },
  {
   "cell_type": "markdown",
   "metadata": {},
   "source": [
    "Overall, about 9% of the students enrolled in COMP 110 do not think quizzes are effective in learning the course material. About 2% of the students from that group also have a good understanding of the course. About 7% of students who don't think quizzes are effective also don't have a good understanding/have a poor understanding of the material. "
   ]
  },
  {
   "cell_type": "markdown",
   "metadata": {},
   "source": [
    "### Visualization of the Data\n",
    "\n",
    "The following graph demonstrates the relationship between students who believe that quizzes are not effective and their overall understanding of the course material. "
   ]
  },
  {
   "cell_type": "code",
   "execution_count": 303,
   "metadata": {},
   "outputs": [
    {
     "data": {
      "text/plain": [
       "Text(0, 0.5, 'Number of students')"
      ]
     },
     "execution_count": 303,
     "metadata": {},
     "output_type": "execute_result"
    },
    {
     "data": {
      "image/png": "[encoded data removed]",
      "text/plain": [
       "<Figure size 432x288 with 1 Axes>"
      ]
     },
     "metadata": {
      "needs_background": "light"
     },
     "output_type": "display_data"
    }
   ],
   "source": [
    "filtered_data_totals: dict[str, int] = {\"Group 1\": total(counted_g1), \"Group 2\": total(counted_g2), \"Group 3\": total(counted_g3)}\n",
    "from matplotlib import pyplot as plt\n",
    "\n",
    "plt.bar(filtered_data_totals.keys(), filtered_data_totals.values())\n",
    "plt.title(\"Course Understanding Among Students who Don't Believe Quizzes are Effective\")\n",
    "plt.ylabel(\"Number of students\")"
   ]
  },
  {
   "cell_type": "markdown",
   "metadata": {},
   "source": [
    "## Conclusion\n",
    "\n",
    "In the following markdown cell, write a reflective conclusion given the analysis you performed and identify recommendations.\n",
    "\n",
    "If your analysis of the data supports your idea, state your recommendation for the change and summarize the data analysys results you found which support it. Additionally, describe any extensions or refinements to this idea which might be explored further. Finally, discuss the potential costs, trade-offs, or stakeholders who may be negatively impacted by this proposed change.\n",
    "\n",
    "If your analysis of the data is inconclusive, summarize why your data analysis results were inconclusive in the support of your idea. Additionally, describe what experimental idea implementation or additional data collection might help build more confidence in assessing your idea. Finally, discuss the potential costs, trade-offs, or stakeholders who may be negatively impacted by experimenting with your idea.\n",
    "\n",
    "Finally, if your analysis of the data does not support it, summarize your data analysis results and why it refutes your idea. Discuss the potential costs, trade-offs, or stakeholders who may be negatively impacted by this proposed change. If you disagree with the validity of the findings, describe why your idea still makes sense to implement and what alternative data would better support it. If you agree with the validity of the data analysis, describe what alternate ideas or extensions you would explore instead. "
   ]
  },
  {
   "cell_type": "markdown",
   "metadata": {},
   "source": [
    "### Part 5. Conclusion\n",
    "\n",
    "Only 9% of students believe that quizzes are not effective in understanding the course material. Of the 9%, around 2% have a poor udnerstanding of the course material, 5% have some understanding of the course material, and 2% have good understanding of the course material. \n",
    "\n",
    "Unfortunately, since such a low percentage of students don't believe the quizzes are effective in understanding the course material, I don't think the data supports the idea completely. The majority of students believe that quizzes are effective, so therefore, it might not be the most pressing thing to improve about the course. However, the percentage of students who believe quizzes are effective is not 100%, so obviously where there isn't perfection, there is a possibility for improvement. Even if the quizzes aren't given less weight in the grading scale, it would be useful to examine why some students said that they weren't effective, especially if they have a good understanding of course. Could it be because of the time limit? The memorization aspect? Writing out code? All of these are questions that can be asked in another survey. \n",
    "\n",
    "Even if we were to go through with this proposed change, we can acknowledge that possible reality. In that reality, there aren't a lot of costs associated with it since the only thing changing is the importance of quizzes in the course. One thing to consider is that if quizzes become less important in the final grade, chances are the projects will become more important. And if the projects become more important, students might be inclined to perform better on them, and seek out office hours more often, putting more burden on the instructional staff. This is a trade off that should be considered in the event that the proposed change followd through. \n"
   ]
  }
 ],
 "metadata": {
  "interpreter": {
   "hash": "aee8b7b246df8f9039afb4144a1f6fd8d2ca17a180786b69acc140d282b71a49"
  },
  "kernelspec": {
   "display_name": "Python 3.10.2 64-bit",
   "language": "python",
   "name": "python3"
  },
  "language_info": {
   "codemirror_mode": {
    "name": "ipython",
    "version": 3
   },
   "file_extension": ".py",
   "mimetype": "text/x-python",
   "name": "python",
   "nbconvert_exporter": "python",
   "pygments_lexer": "ipython3",
   "version": "3.10.1"
  },
  "orig_nbformat": 4
 },
 "nbformat": 4,
 "nbformat_minor": 2
}
